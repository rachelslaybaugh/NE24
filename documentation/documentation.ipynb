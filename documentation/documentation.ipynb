{
 "cells": [
  {
   "cell_type": "markdown",
   "metadata": {},
   "source": [
    "# Documentation\n",
    "\n",
    "**Derived from material by Anthony Scopatz**\n",
    "\n",
    "Just like version control and testing, \n",
    "documenting your code is the __most important thing__ you can do as a software developer. \n",
    "Good documentation is a sublime experience that should permeate your code.\n",
    "\n",
    "Documentation is important because it is [the only way that 90% of\n",
    "people will ever interact with you or your code]\n",
    "(http://pyvideo.org/video/403/pycon-2011--writing-great-documentation).\n",
    "In fact, it is the only way that scales up; \n",
    "there are only so many emails that you can (and want) write.\n",
    "\n",
    "What is disturbing is that documentation is a forgotten after thought for most developers. \n",
    "It turns out that being able to write software _and_\n",
    "being able to write in your primary spoken language are _different skills_. \n",
    "Luckily, we are academics so it is in our nature to publish / write. \n",
    "We have no excuse for bad documentation."
   ]
  },
  {
   "cell_type": "markdown",
   "metadata": {},
   "source": [
    "## The Many Stages of Documentation\n",
    "\n",
    "1.  Code Comments\n",
    "2.  API Documentation\n",
    "3.  Auto-Documentation\n",
    "4.  Self-Documenting Code\n",
    "5.  Readmes\n",
    "6.  User Guides\n",
    "7.  Developer Guides\n",
    "\n"
   ]
  },
  {
   "cell_type": "markdown",
   "metadata": {},
   "source": [
    "## Code Comments\n",
    "\n",
    "Every language has a special character (or two) that indicate(s) to the\n",
    "parser, compiler, or interpreter that whatever comes after or between\n",
    "these characters should be ignored. \n",
    "This allows the author to write, annotate, and explain the code that they are writing *right at the point\n",
    "that they are writing it!* \n",
    "This is especially helpful if something weird, obtuse, or obscure is about to happen because it gives the author\n",
    "a chance to explain themselves to future developers (often themselves in 1, 2, 6, etc. months).\n",
    "\n",
    "The best part is that you can put literally *anything* in comments:\n",
    "publication citations, ASCII art, messages to your friends, and threats to your collaborators.\n",
    "\n",
    "In Python, the comment character is the hash symbol `#`. \n",
    "The following example shows how you might help explain a toaster:"
   ]
  },
  {
   "cell_type": "code",
   "execution_count": 1,
   "metadata": {
    "collapsed": false
   },
   "outputs": [],
   "source": [
    "def toast(slices, toastiness, msg=None):\n",
    "    \n",
    "    # make sure the toaster has the right setting\n",
    "    toastiness = int(toastiness) if 0 < toastiness else 5\n",
    "\n",
    "    print \"Engage the bread warming!\"\n",
    "    for slice in slices:\n",
    "        slice.toast(toastiness)\n",
    "\n",
    "    # log the message, making a default if needed\n",
    "    if msg is None:\n",
    "        msg = \"Toasted to level {}\".format(toastiness)\n",
    "    logging.info(msg)"
   ]
  },
  {
   "cell_type": "markdown",
   "metadata": {},
   "source": [
    "However, it is certainly possible to over-document your code with comments. \n",
    "Comments should never simply repeat what the code itself is doing. \n",
    "The goal is to strike the right balance. \n",
    "The appropriate ratio changes with language. \n",
    "(Typically higher level languages have greater functionality per line and so have more comments per amount of code.) \n",
    "Try to avoid the following:"
   ]
  },
  {
   "cell_type": "code",
   "execution_count": null,
   "metadata": {
    "collapsed": false
   },
   "outputs": [],
   "source": [
    "# init a to 0\n",
    "a = 0\n",
    "\n",
    "# make b 'a string'\n",
    "b = 'a string'\n",
    "\n",
    "# Add one to a\n",
    "a = a + 1\n",
    "\n",
    "# stopping excessive comments\n",
    "self.fall_on_sword()"
   ]
  },
  {
   "cell_type": "markdown",
   "metadata": {},
   "source": [
    "Note: my personal tendency is to over-comment. \n",
    "It doesn't necessarily hurt anything, but what might some detractors be?"
   ]
  },
  {
   "cell_type": "markdown",
   "metadata": {},
   "source": [
    "## API Documentation\n",
    "\n",
    "The application programming interface (API) is the definition of the\n",
    "protocol that two pieces of code may use to interact with one another.\n",
    "Consider the case of functions. \n",
    "All functions have a function signature that specifies how many arguments they accept and their return values.\n",
    "This signature, along with the module name and function name, is the API.\n",
    "(The function object/pointer itself is the implementation and is independent of the abstract API.)\n",
    "\n",
    "Just because you have an argument list, however, does not imply that the\n",
    "meaning of the arguments is known. \n",
    "For example:"
   ]
  },
  {
   "cell_type": "code",
   "execution_count": 5,
   "metadata": {
    "collapsed": false
   },
   "outputs": [],
   "source": [
    "def f(a, b=10):\n",
    "    \n",
    "    # ...\n",
    "    return"
   ]
  },
  {
   "cell_type": "markdown",
   "metadata": {},
   "source": [
    "We know that `f()` accepts two argument `a` and `b` and that `b` should probably be an integer. \n",
    "But what does `f()` actually do? \n",
    "What do these arguments mean in this context?\n",
    "\n",
    "Python allows the user to define API documentation right at the\n",
    "function, class, module, or variable definition. \n",
    "Every Python object may have a `__doc__` attribute that is a string representation of the API docs. \n",
    "This is known as a *docstring*.\n",
    "[PEP257](http://www.python.org/dev/peps/pep-0257/) describes the conventions for docstrings. \n",
    "The most important of these is that simple things should have simple docstrings.\n",
    "\n",
    "If, right below a definition, in the first non-comment, non-whitespace line, there is an unassigned string literal, \n",
    "then this string is automatically loaded as the docstring. \n",
    "It is this docstring that is then read by the `help()` built-in or the `?` in iPython."
   ]
  },
  {
   "cell_type": "code",
   "execution_count": null,
   "metadata": {
    "collapsed": false
   },
   "outputs": [],
   "source": [
    "def mean(numlist):\n",
    "    \"\"\"Computes the mean of a list of numbers.\"\"\"\n",
    "    \n",
    "    try:\n",
    "        total = sum(numlist)\n",
    "        length = len(numlist)\n",
    "    except ValueError:\n",
    "        print \"The number list was not a list of numbers.\"\n",
    "    except:\n",
    "        print \"There was a problem evaluating the number list.\"\n",
    "    return total/length\n",
    "\n",
    "\n",
    "def fib(n):\n",
    "    \"\"\"Determines the nth Fibonacci number, where n is \n",
    "    a non-negative integer.\"\"\"\n",
    "    \n",
    "    if n < 0 or int(n) != n:\n",
    "        return NotImplemented\n",
    "    elif n == 0 or n == 1:\n",
    "        return n\n",
    "    else:\n",
    "        return fib(n - 1) + fib(n - 2)\n",
    "\n",
    "print help(mean)\n",
    "print fib.__doc__"
   ]
  },
  {
   "cell_type": "markdown",
   "metadata": {},
   "source": [
    "Most Python docstrings are written in a markup language called\n",
    "[reStructuredText](http://sphinx.pocoo.org/rest.html) (rST). It is\n",
    "designed to be easy to read, extensible, and provide enough\n",
    "natural-looking syntax to be able to render nicely. For example, our\n",
    "toaster docstring might look like:"
   ]
  },
  {
   "cell_type": "code",
   "execution_count": null,
   "metadata": {
    "collapsed": false
   },
   "outputs": [],
   "source": [
    "def toast(slices, toastiness, msg=None):\n",
    "    \"\"\"Toast some bread.\n",
    "\n",
    "    Parameters\n",
    "    ----------\n",
    "    slices : sequence of instance of bread slices\n",
    "        Toast slices to toastiness level\n",
    "    toastiness : int\n",
    "        The desired toaster setting\n",
    "    msg : str, optional\n",
    "        A message for the toaster's usage log.\n",
    "\n",
    "    \"\"\"\n",
    "    \n",
    "    # make sure the toaster has the right setting\n",
    "    toastiness = int(toastiness) if 0 < toastiness else 5\n",
    "\n",
    "    print \"Engage the bread warming!\"\n",
    "    for slice if slices:\n",
    "        slice.toast(toastiness)\n",
    "\n",
    "    # log the message, making a default if needed\n",
    "    if msg is None:\n",
    "        msg = \"Toasted to level {}\".format(toastiness)\n",
    "    logging.info(msg)"
   ]
  },
  {
   "cell_type": "markdown",
   "metadata": {},
   "source": [
    "## Auto-Documentation\n",
    "\n",
    "Automatic documentation is the powerful concept that the comments and\n",
    "docstrings that the developer has already written can be scraped from\n",
    "the code base and placed on a website or into API documentation. This\n",
    "significantly reduces the overhead of having to write and maintain many\n",
    "documents that contain effectively the same information.\n",
    "\n",
    "Probably the three most popular auto-doc projects are\n",
    "[javadoc](http://www.oracle.com/technetwork/java/javase/documentation/index-jsp-135444.html)\n",
    "for Java, [Doxygen](http://www.stack.nl/~dimitri/doxygen/) for most\n",
    "compiled languages, and [sphinx](http://sphinx.pocoo.org/) for Python.\n",
    "\n",
    "\n",
    "\n",
    "\n",
    "\n",
    "**Example:** Let's try to make some documentation using Doxygen and the example file [`multilevel_solver.py`](https://github.com/rachelslaybaugh/NE24/blob/master/documentation/multilevel_solver.py)."
   ]
  },
  {
   "cell_type": "markdown",
   "metadata": {},
   "source": [
    "## Exercise\n",
    "\n",
    "You can build the Doxygen documentation by making a stub Doxygen file for your python code. \n",
    "We're going to do this for the [`JellyBeanCode`](https://github.com/rachelslaybaugh/NE24/blob/master/documentation/EstNumJellies.py)\n",
    "\n",
    "     doxygen -g doc_example\n",
    "\n",
    "Now you have a Doxygen template called doc_example. Open the doc_example file. There are many entries you can edit. The ones we're going to worry about here:\n",
    "\n",
    " 1) Let's change the project name\n",
    " \n",
    "      PROJECT_NAME           = \"Jelly Bean Code\"\n",
    "      \n",
    " 2) Tell Doxygen what files to use\n",
    " \n",
    "      INPUT                  =  \"EstNumJellies.py\"\n",
    "      \n",
    " 3) Tell it to optimize for Python\n",
    " \n",
    "      OPTIMIZE_OUTPUT_JAVA   = YES\n",
    " \n",
    "\n",
    "Information about formatting Doxygen comments for Python can be found [here](http://www.stack.nl/~dimitri/doxygen/manual/docblocks.html#pythonblocks).\n",
    "\n",
    "Let's build what we've got now and check it out\n",
    "\n",
    "     doxygen doc_example\n",
    "     cd html\n",
    "     google-chrome index.html\n",
    "\n",
    "\n",
    "Add some additional Doxygen formatted comments to the functions in the `EstNumJellies.py` module. \n",
    "Then, using Doxygen, generate a website that auto-documents this module.\n",
    "\n",
    "Feel free to peruse the multilevel_solver.py code for a more complicated example."
   ]
  },
  {
   "cell_type": "markdown",
   "metadata": {},
   "source": [
    "## Self-Documenting Code\n",
    "\n",
    "Much like in testing where you can simply write perfect code the first\n",
    "time, there is an analogous philosophy is documentation. This is the\n",
    "philosophy of [self-documenting\n",
    "code](http://c2.com/cgi/wiki?SelfDocumentingCode). This ethos makes the\n",
    "claim that it is often possible to write code in such a way that new\n",
    "readers can understand what the code does simply by reading it.\n",
    "Therefore, no extra documentation is required. It is all there in the\n",
    "code itself.\n",
    "\n",
    "While there are obvious pitfalls with this approach (assumed knowledge\n",
    "on the reader's behalf, unavoidable complexities, etc.) there are some\n",
    "merits. By having meaningful naming conventions and structure it does\n",
    "become possible to infer a lot about a code just by glancing at it.\n",
    "Coding standards come from the same desire to have readable software.\n",
    "\n",
    "However, using this documentation strategy exclusively is *highly* inadvisable."
   ]
  },
  {
   "cell_type": "markdown",
   "metadata": {},
   "source": [
    "## Readmes\n",
    "\n",
    "The omnipresent `README` file is typically a plain text file that sits next to the code. \n",
    "They may contain markup, but are often quite terse. \n",
    "point of a readme file is to provide only the most basic information to the user / developer.\n",
    "\n",
    "Readme files are so common that GitHub will render and display the\n",
    "readme file for all directories whenever you are browsing a source tree.\n",
    "Even Linux itself has a [readme](https://www.kernel.org/doc/readme/README):\n",
    "\n",
    ">        Linux kernel release 3.x <http://kernel.org/>\n",
    ">\n",
    "> These are the release notes for Linux version 3. Read them carefully,\n",
    "> as they tell you what this is all about, explain how to install the\n",
    "> kernel, and what to do if something goes wrong.\n",
    ">\n",
    "> WHAT IS LINUX?\n",
    ">\n",
    "> Linux is a clone of the operating system Unix, written from scratch\n",
    "> by Linus Torvalds with assistance from a loosely-knit team of\n",
    "> hackers across the Net. It aims towards POSIX and Single UNIX\n",
    "> Specification compliance.\n",
    "> \n",
    "> It has all the features you would expect in a modern fully-fledged\n",
    "> Unix, including true multitasking, virtual memory, shared libraries,\n",
    "> demand loading, shared copy-on-write executables, proper memory\n",
    "> management, and multistack networking including IPv4 and IPv6.\n",
    "> \n",
    "> It is distributed under the GNU General Public License - see the\n",
    "> accompanying COPYING file for more details.\n",
    ">\n",
    "> ..."
   ]
  },
  {
   "cell_type": "markdown",
   "metadata": {},
   "source": [
    "## User Guides\n",
    "\n",
    "The next level of documentation are user guides. \n",
    "These often take the form of books or pdfs that aim to explain top level architecture and\n",
    "functionality to (possibly novice) users. \n",
    "Such documents are extremely helpful for bringing in new users, \n",
    "helping existing users learn more complex features,\n",
    "going in depth into the theory (math, biology, physics, chemistry, engineering), \n",
    "and as a reference manual for advanced users and developers. \n",
    "However, because of their high level nature, \n",
    "you typically have to wait until the code has stabilized to be able to write a good, comprehensive user's guide.\n",
    "\n",
    "**Examples:**\n",
    "[FLASH](http://flash.uchicago.edu/site/flashcode/user_support/flash4b_ug.pdf),\n",
    "[NumPy](http://docs.scipy.org/doc/numpy/user/)."
   ]
  },
  {
   "cell_type": "markdown",
   "metadata": {},
   "source": [
    "## Developer Guides\n",
    "\n",
    "Developer guides are very similar to user guides,\n",
    "except that they assume a basic mastery of the project. \n",
    "They are typically for people who want to *become* developers on a project \n",
    "rather than for existing developers. \n",
    "They are probably most important for code projects that have plugin architectures and/or\n",
    "where the line between user and developer is less well defined.\n",
    "\n",
    "**Examples:** [Android](http://developer.android.com/guide/index.html),\n",
    "[Python](http://docs.python.org/devguide/)."
   ]
  },
  {
   "cell_type": "code",
   "execution_count": null,
   "metadata": {
    "collapsed": true
   },
   "outputs": [],
   "source": []
  }
 ],
 "metadata": {
  "kernelspec": {
   "display_name": "Python 2",
   "language": "python",
   "name": "python2"
  },
  "language_info": {
   "codemirror_mode": {
    "name": "ipython",
    "version": 2
   },
   "file_extension": ".py",
   "mimetype": "text/x-python",
   "name": "python",
   "nbconvert_exporter": "python",
   "pygments_lexer": "ipython2",
   "version": "2.7.11"
  }
 },
 "nbformat": 4,
 "nbformat_minor": 0
}
